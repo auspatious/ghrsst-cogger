{
 "cells": [
  {
   "cell_type": "code",
   "execution_count": null,
   "metadata": {},
   "outputs": [],
   "source": [
    "import pystac\n",
    "import stacrs\n",
    "\n",
    "from cogger import get_output_path\n",
    "\n",
    "from datetime import datetime\n",
    "\n",
    "from s3path import S3Path"
   ]
  },
  {
   "cell_type": "code",
   "execution_count": null,
   "metadata": {},
   "outputs": [],
   "source": [
    "items = []\n",
    "\n",
    "for year in [2025]:\n",
    "    for month in [1, 2]:\n",
    "        for day in range(1, 32):\n",
    "            try:\n",
    "                date = datetime(year, month, day)\n",
    "                path = S3Path(\"s3://example\")\n",
    "                path = get_output_path(path, date, \".stac-item.json\")\n",
    "                href = str(path).replace(\"s3:/example\", \"https://data.source.coop/ausantarctic/ghrsst-mur-v2\")\n",
    "                item = pystac.read_file(href)\n",
    "                items.append(item.to_dict())\n",
    "            except ValueError:\n",
    "                pass\n",
    "            except Exception:\n",
    "                print(f\"Quitting on {date}\")\n",
    "                # pystac isn't throwing the right exception\n",
    "                break\n",
    "print(f\"Found {len(items)} items\")"
   ]
  },
  {
   "cell_type": "code",
   "execution_count": null,
   "metadata": {},
   "outputs": [],
   "source": [
    "item = pystac.Item.from_dict(items[0])\n",
    "item"
   ]
  },
  {
   "cell_type": "code",
   "execution_count": null,
   "metadata": {},
   "outputs": [],
   "source": [
    "stacrs.write(\"items.parquet\", items)"
   ]
  }
 ],
 "metadata": {
  "kernelspec": {
   "display_name": "Python 3",
   "language": "python",
   "name": "python3"
  },
  "language_info": {
   "codemirror_mode": {
    "name": "ipython",
    "version": 3
   },
   "file_extension": ".py",
   "mimetype": "text/x-python",
   "name": "python",
   "nbconvert_exporter": "python",
   "pygments_lexer": "ipython3",
   "version": "3.11.10"
  }
 },
 "nbformat": 4,
 "nbformat_minor": 2
}
