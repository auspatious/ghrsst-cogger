{
 "cells": [
  {
   "cell_type": "code",
   "execution_count": null,
   "metadata": {},
   "outputs": [],
   "source": [
    "import rasterio\n",
    "from datetime import datetime\n",
    "from ghrsst.cogger import load_data\n",
    "import sys\n",
    "\n",
    "sys.path.insert(0, \"..\")"
   ]
  },
  {
   "cell_type": "code",
   "execution_count": null,
   "metadata": {},
   "outputs": [],
   "source": [
    "d = datetime(2023, 11, 6)\n",
    "\n",
    "data = load_data(d, \"../data\")\n",
    "data"
   ]
  },
  {
   "cell_type": "code",
   "execution_count": null,
   "metadata": {},
   "outputs": [],
   "source": [
    "subset = data.sel(lat=slice(35, 39.99), lon=slice(15, 19.99))\n",
    "subset"
   ]
  },
  {
   "cell_type": "code",
   "execution_count": null,
   "metadata": {},
   "outputs": [],
   "source": [
    "subset.odc.geobox.width"
   ]
  },
  {
   "cell_type": "code",
   "execution_count": null,
   "metadata": {},
   "outputs": [],
   "source": [
    "from odc.geo.cog import write_cog\n",
    "\n",
    "mem = write_cog(subset.analysed_sst, \":mem:\")"
   ]
  },
  {
   "cell_type": "code",
   "execution_count": null,
   "metadata": {},
   "outputs": [],
   "source": [
    "from io import BytesIO\n",
    "from rasterio.io import MemoryFile\n",
    "\n",
    "# Load mem bytes as a bytes file\n",
    "memfile = MemoryFile(mem)\n",
    "cog = rasterio.open(\n",
    "    memfile,\n",
    "    \"w\",\n",
    "    width=subset.odc.geobox.width,\n",
    "    height=subset.odc.geobox.height,\n",
    "    count=1,\n",
    "    driver=\"GTiff\",\n",
    "    dtype=\"float32\",\n",
    "    crs=subset.odc.crs,\n",
    ")"
   ]
  },
  {
   "cell_type": "code",
   "execution_count": null,
   "metadata": {},
   "outputs": [],
   "source": [
    "from planetary_computer import sign_url\n",
    "\n",
    "sign_url(\"https://pcstacitems.blob.core.windows.net/items/sentinel-2-l2a.parquet\")"
   ]
  },
  {
   "cell_type": "code",
   "execution_count": null,
   "metadata": {},
   "outputs": [],
   "source": []
  },
  {
   "cell_type": "code",
   "execution_count": null,
   "metadata": {},
   "outputs": [],
   "source": [
    "cog.update_tags(TEST=\"test\", SCALE=0.1, TRANSFORM=123)"
   ]
  },
  {
   "cell_type": "code",
   "execution_count": null,
   "metadata": {},
   "outputs": [],
   "source": [
    "from rasterio.shutil import copy as rio_copy\n",
    "\n",
    "rio_copy(cog, \"test.tif\")"
   ]
  }
 ],
 "metadata": {
  "kernelspec": {
   "display_name": "Python 3",
   "language": "python",
   "name": "python3"
  },
  "language_info": {
   "codemirror_mode": {
    "name": "ipython",
    "version": 3
   },
   "file_extension": ".py",
   "mimetype": "text/x-python",
   "name": "python",
   "nbconvert_exporter": "python",
   "pygments_lexer": "ipython3",
   "version": "3.11.6"
  }
 },
 "nbformat": 4,
 "nbformat_minor": 2
}
