{
 "cells": [
  {
   "cell_type": "code",
   "execution_count": 3,
   "metadata": {},
   "outputs": [],
   "source": [
    "\n",
    "import rasterio\n",
    "from datetime import datetime\n",
    "from ghrsst.cogger import load_data\n",
    "import sys\n",
    "\n",
    "sys.path.insert(0, \"..\")"
   ]
  },
  {
   "cell_type": "code",
   "execution_count": 4,
   "metadata": {},
   "outputs": [],
   "source": [
    "d = datetime(2023, 11, 6)\n",
    "\n",
    "data = load_data(d, \"../data\")\n",
    "# data"
   ]
  },
  {
   "cell_type": "code",
   "execution_count": 5,
   "metadata": {},
   "outputs": [],
   "source": [
    "subset = data.sel(lat=slice(35, 39.99), lon=slice(15, 19.99))\n",
    "# subset"
   ]
  },
  {
   "cell_type": "code",
   "execution_count": null,
   "metadata": {},
   "outputs": [],
   "source": [
    "from odc.geo.cog import write_cog\n",
    "\n",
    "mem = write_cog(subset.analysed_sst, \":mem:\")"
   ]
  },
  {
   "cell_type": "code",
   "execution_count": null,
   "metadata": {},
   "outputs": [],
   "source": [
    "from pathlib import Path\n",
    "\n",
    "tmp = Path(\"temp.tif\")\n",
    "\n",
    "tmp.write_bytes(mem)"
   ]
  },
  {
   "cell_type": "code",
   "execution_count": null,
   "metadata": {},
   "outputs": [],
   "source": [
    "from rasterio.io import MemoryFile\n",
    "\n",
    "f = MemoryFile(mem)\n",
    "ds = rasterio.open(f, \"r\")"
   ]
  },
  {
   "cell_type": "code",
   "execution_count": null,
   "metadata": {},
   "outputs": [],
   "source": [
    "ds.offsets[0]"
   ]
  },
  {
   "cell_type": "code",
   "execution_count": null,
   "metadata": {},
   "outputs": [],
   "source": [
    "ras"
   ]
  },
  {
   "cell_type": "code",
   "execution_count": null,
   "metadata": {},
   "outputs": [],
   "source": [
    "from pathlib import Path\n",
    "\n",
    "test = Path(\"test.tif\")\n",
    "\n",
    "test.write_bytes(cog)"
   ]
  },
  {
   "cell_type": "code",
   "execution_count": null,
   "metadata": {},
   "outputs": [],
   "source": []
  },
  {
   "cell_type": "code",
   "execution_count": null,
   "metadata": {},
   "outputs": [],
   "source": [
    "from rasterio.shutil import copy as rio_copy\n",
    "\n",
    "rio_copy(cog, \"test.tif\")"
   ]
  },
  {
   "cell_type": "code",
   "execution_count": null,
   "metadata": {},
   "outputs": [],
   "source": [
    "f = \"../data/output_new/2023/11/06/20231106090000-JPL-L4_GHRSST-SSTfnd-MUR-GLOB-v02.0-fv04.1_analysed_sst.tif\"\n",
    "with rasterio.open(f) as r:\n",
    "    with rasterio.open(\n",
    "        f,\n",
    "        \"w\",\n",
    "        dtype=r.dtypes[0],\n",
    "        driver=\"GTiff\",\n",
    "        width=r.width,\n",
    "        height=r.height,\n",
    "        count=r.count,\n",
    "    ) as d:\n",
    "        d.update_tags(TEST=\"test\", SCALE=0.1, TRANSFORM=123, OFFSET=100)"
   ]
  }
 ],
 "metadata": {
  "kernelspec": {
   "display_name": "Python 3",
   "language": "python",
   "name": "python3"
  },
  "language_info": {
   "codemirror_mode": {
    "name": "ipython",
    "version": 3
   },
   "file_extension": ".py",
   "mimetype": "text/x-python",
   "name": "python",
   "nbconvert_exporter": "python",
   "pygments_lexer": "ipython3",
   "version": "3.11.9"
  }
 },
 "nbformat": 4,
 "nbformat_minor": 2
}
