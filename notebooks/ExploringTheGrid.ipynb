{
 "cells": [
  {
   "cell_type": "code",
   "execution_count": null,
   "metadata": {},
   "outputs": [],
   "source": [
    "import xarray as xr\n",
    "import odc.geo.xr  # noqa"
   ]
  },
  {
   "cell_type": "code",
   "execution_count": null,
   "metadata": {},
   "outputs": [],
   "source": [
    "test_file = \"../data/20231106090000-JPL-L4_GHRSST-SSTfnd-MUR-GLOB-v02.0-fv04.1.nc\"\n",
    "\n",
    "data = xr.open_dataset(test_file)\n",
    "data"
   ]
  },
  {
   "cell_type": "code",
   "execution_count": null,
   "metadata": {},
   "outputs": [],
   "source": [
    "import xarray as xr\n",
    "import odc.geo.xr  # noqa\n",
    "from odc.geo.xr import xr_coords, assign_crs\n",
    "from affine import Affine\n",
    "from odc.geo.geobox import GeoBox\n",
    "\n",
    "# File from https://archive.podaac.earthdata.nasa.gov/podaac-ops-cumulus-protected/MUR-JPL-L4-GLOB-v4.1/20231106090000-JPL-L4_GHRSST-SSTfnd-MUR-GLOB-v02.0-fv04.1.nc\n",
    "test_file = \"/tmp/20240412090000-JPL-L4_GHRSST-SSTfnd-MUR-GLOB-v02.0-fv04.1.nc\"\n",
    "\n",
    "data = xr.open_dataset(test_file)\n",
    "data = assign_crs(data, crs=\"EPSG:4326\")\n",
    "\n",
    "new_affine = Affine(0.01, 0.0, -180.0, 0.0, -0.01, 89.995, 0.0, 0.0, 1.0)\n",
    "new_geobox = GeoBox(data.odc.geobox.shape, new_affine, data.odc.geobox.crs)\n",
    "new_coords = xr_coords(new_geobox)\n",
    "\n",
    "new_data = data.rename({\"lat\": \"latitude\", \"lon\": \"longitude\"}).assign_coords(\n",
    "    new_coords\n",
    ")\n",
    "# Update the coordinates of the xarray to be precise\n",
    "new_data.odc.geobox.affine"
   ]
  },
  {
   "cell_type": "code",
   "execution_count": null,
   "metadata": {},
   "outputs": [],
   "source": [
    "import xarray as xr\n",
    "import odc.geo.xr  # noqa\n",
    "from odc.geo.xr import xr_coords, assign_crs\n",
    "from affine import Affine\n",
    "from odc.geo.geobox import GeoBox\n",
    "\n",
    "# File from https://archive.podaac.earthdata.nasa.gov/podaac-ops-cumulus-protected/MUR-JPL-L4-GLOB-v4.1/20231106090000-JPL-L4_GHRSST-SSTfnd-MUR-GLOB-v02.0-fv04.1.nc\n",
    "test_file = \"/tmp/20240412090000-JPL-L4_GHRSST-SSTfnd-MUR-GLOB-v02.0-fv04.1.nc\"\n",
    "\n",
    "data = xr.open_dataset(test_file)\n",
    "data = assign_crs(data, crs=\"EPSG:4326\")\n",
    "\n",
    "# Set up a new Affine and GeoBox\n",
    "new_affine = Affine(0.01, 0.0, -180.0, 0.0, -0.01, 89.995, 0.0, 0.0, 1.0)\n",
    "new_geobox = GeoBox(data.odc.geobox.shape, new_affine, data.odc.geobox.crs)\n",
    "\n",
    "# First flip the dataset\n",
    "data = data.reindex(lat=data.lat[::-1])\n",
    "\n",
    "# Update the coordinates of the xarray to be precise\n",
    "data = data.assign_coords(xr_coords(new_geobox))\n",
    "\n",
    "# These should be the same\n",
    "print(data.odc.geobox.affine[0])\n",
    "print(data.analysed_sst.odc.geobox.affine[0])"
   ]
  },
  {
   "cell_type": "code",
   "execution_count": null,
   "metadata": {},
   "outputs": [],
   "source": [
    "data.odc.reload()\n",
    "list(data.odc.geobox.affine)"
   ]
  },
  {
   "cell_type": "code",
   "execution_count": null,
   "metadata": {},
   "outputs": [],
   "source": [
    "!pip3 install --upgrade odc-geo==0.4.5"
   ]
  },
  {
   "cell_type": "code",
   "execution_count": null,
   "metadata": {},
   "outputs": [],
   "source": [
    "new_coords"
   ]
  },
  {
   "cell_type": "code",
   "execution_count": null,
   "metadata": {},
   "outputs": [],
   "source": [
    "new_coords"
   ]
  },
  {
   "cell_type": "code",
   "execution_count": null,
   "metadata": {},
   "outputs": [],
   "source": [
    "import xarray as xr\n",
    "import odc.geo.xr  # noqa\n",
    "from affine import Affine\n",
    "from odc.geo.geobox import GeoBox\n",
    "\n",
    "# File from https://archive.podaac.earthdata.nasa.gov/podaac-ops-cumulus-protected/MUR-JPL-L4-GLOB-v4.1/20231106090000-JPL-L4_GHRSST-SSTfnd-MUR-GLOB-v02.0-fv04.1.nc\n",
    "# test_file = \"../data/20231106090000-JPL-L4_GHRSST-SSTfnd-MUR-GLOB-v02.0-fv04.1.nc\"\n",
    "test_file = \"/tmp/20240412090000-JPL-L4_GHRSST-SSTfnd-MUR-GLOB-v02.0-fv04.1.nc\"\n",
    "\n",
    "data = xr.open_dataset(test_file)\n",
    "\n",
    "new_affine = Affine(0.01, 0.0, -180.0, 0.0, -0.01, 89.995, 0.0, 0.0, 1.0)\n",
    "new_geobox = GeoBox(data.odc.geobox.shape, new_affine, data.odc.geobox.crs)\n",
    "new_coords = odc.geo.xr.xr_coords(new_geobox)\n",
    "\n",
    "xx_works = data.assign_coords(new_coords)\n",
    "\n",
    "xx_works.odc.geobox.affine"
   ]
  },
  {
   "cell_type": "code",
   "execution_count": null,
   "metadata": {},
   "outputs": [],
   "source": [
    "import odc.geo.xr\n",
    "\n",
    "data.analysed_sst.isel(time=0).plot.imshow()"
   ]
  },
  {
   "cell_type": "code",
   "execution_count": null,
   "metadata": {},
   "outputs": [],
   "source": [
    "float(data.lon[0].values), float(data.lon[-1].values)"
   ]
  },
  {
   "cell_type": "code",
   "execution_count": null,
   "metadata": {},
   "outputs": [],
   "source": [
    "float(data.lat[0].values), float(data.lat[-1].values)"
   ]
  },
  {
   "cell_type": "code",
   "execution_count": null,
   "metadata": {},
   "outputs": [],
   "source": [
    "left = data[\"analysed_sst\"].isel(lon=0)\n",
    "right = data[\"analysed_sst\"].isel(lon=-1)\n",
    "\n",
    "diff = left - right\n",
    "\n",
    "diff.plot()"
   ]
  }
 ],
 "metadata": {
  "kernelspec": {
   "display_name": "Python 3",
   "language": "python",
   "name": "python3"
  },
  "language_info": {
   "codemirror_mode": {
    "name": "ipython",
    "version": 3
   },
   "file_extension": ".py",
   "mimetype": "text/x-python",
   "name": "python",
   "nbconvert_exporter": "python",
   "pygments_lexer": "ipython3",
   "version": "3.11.9"
  }
 },
 "nbformat": 4,
 "nbformat_minor": 2
}
