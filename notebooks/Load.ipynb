{
 "cells": [
  {
   "cell_type": "code",
   "execution_count": null,
   "metadata": {},
   "outputs": [],
   "source": [
    "from pystac import Item\n",
    "from odc.stac import load\n",
    "\n",
    "path = \"https://data.source.coop/ausantarctic/ghrsst-mur-v2/2025/02/09/20250209090000-JPL-L4_GHRSST-SSTfnd-MUR-GLOB-v02.0-fv04.1.stac-item.json\"\n",
    "item = Item.from_file(path)\n",
    "\n",
    "data = load([item], chunks={}, anchor=\"center\")\n",
    "data\n"
   ]
  },
  {
   "cell_type": "code",
   "execution_count": null,
   "metadata": {},
   "outputs": [],
   "source": [
    "sst_loaded = data[\"analysed_sst\"].squeeze().compute()\n",
    "sst_masked = sst_loaded.where(sst_loaded != sst_loaded.odc.nodata)\n",
    "\n",
    "# Extract the scale and offset from the metadata\n",
    "meta = item.assets[\"analysed_sst\"].extra_fields[\"raster:bands\"][0]\n",
    "scale = meta[\"scale\"]\n",
    "offset = meta[\"offset\"]\n",
    "k_to_c = -273.15\n",
    "\n",
    "sst_scaled = sst_masked * scale + offset + k_to_c\n",
    "sst_scaled.plot.imshow(size=8, robust=True, cmap=\"inferno\")"
   ]
  }
 ],
 "metadata": {
  "kernelspec": {
   "display_name": "Python 3",
   "language": "python",
   "name": "python3"
  },
  "language_info": {
   "codemirror_mode": {
    "name": "ipython",
    "version": 3
   },
   "file_extension": ".py",
   "mimetype": "text/x-python",
   "name": "python",
   "nbconvert_exporter": "python",
   "pygments_lexer": "ipython3",
   "version": "3.11.10"
  }
 },
 "nbformat": 4,
 "nbformat_minor": 2
}
