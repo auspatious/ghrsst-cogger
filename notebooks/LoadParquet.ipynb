{
 "cells": [
  {
   "cell_type": "code",
   "execution_count": null,
   "metadata": {},
   "outputs": [],
   "source": [
    "import stacrs\n",
    "import pystac\n",
    "from odc.stac import load\n",
    "\n",
    "url = \"https://data.source.coop/ausantarctic/ghrsst-mur-v2/ghrsst-mur-v2.parquet\"\n",
    "\n",
    "center = 13, -61\n",
    "year = 2025\n",
    "buffer = 5\n",
    "\n",
    "bbox = (\n",
    "    center[1] - buffer,\n",
    "    center[0] - buffer,\n",
    "    center[1] + buffer,\n",
    "    center[0] + buffer,\n",
    ")\n",
    "\n",
    "items = stacrs.read(url)\n",
    "items = [pystac.Item.from_dict(i) for i in items[\"features\"]]\n",
    "\n",
    "data = load(items, bbox=bbox, chunks={})\n",
    "data"
   ]
  },
  {
   "cell_type": "code",
   "execution_count": null,
   "metadata": {},
   "outputs": [],
   "source": [
    "bbox"
   ]
  },
  {
   "cell_type": "code",
   "execution_count": null,
   "metadata": {},
   "outputs": [],
   "source": [
    "from distributed import Client\n",
    "\n",
    "with Client():\n",
    "    data.analysed_sst.max(dim=[\"time\"]).plot.imshow()"
   ]
  },
  {
   "cell_type": "code",
   "execution_count": null,
   "metadata": {},
   "outputs": [],
   "source": [
    "import pystac\n",
    "\n",
    "item = pystac.Item.from_dict(items[0])"
   ]
  },
  {
   "cell_type": "code",
   "execution_count": null,
   "metadata": {},
   "outputs": [],
   "source": [
    "item.collection_id"
   ]
  },
  {
   "cell_type": "code",
   "execution_count": null,
   "metadata": {},
   "outputs": [],
   "source": [
    "item.collection"
   ]
  },
  {
   "cell_type": "code",
   "execution_count": null,
   "metadata": {},
   "outputs": [],
   "source": [
    "s2 = pystac.Item.from_file(\"https://earth-search.aws.element84.com/v1/collections/sentinel-2-c1-l2a/items/S2B_T01VFF_20250210T231614_L2A\")\n"
   ]
  },
  {
   "cell_type": "code",
   "execution_count": null,
   "metadata": {},
   "outputs": [],
   "source": [
    "d = load([item], bbox=bbox, chunks={})\n",
    "d"
   ]
  }
 ],
 "metadata": {
  "kernelspec": {
   "display_name": "Python 3",
   "language": "python",
   "name": "python3"
  },
  "language_info": {
   "codemirror_mode": {
    "name": "ipython",
    "version": 3
   },
   "file_extension": ".py",
   "mimetype": "text/x-python",
   "name": "python",
   "nbconvert_exporter": "python",
   "pygments_lexer": "ipython3",
   "version": "3.11.10"
  }
 },
 "nbformat": 4,
 "nbformat_minor": 2
}
