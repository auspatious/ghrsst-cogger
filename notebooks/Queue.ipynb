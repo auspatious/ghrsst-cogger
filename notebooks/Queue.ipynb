{
 "cells": [
  {
   "cell_type": "code",
   "execution_count": null,
   "metadata": {},
   "outputs": [],
   "source": [
    "from odc.aws.queue import publish_messages, get_queue\n",
    "from datetime import datetime, timedelta\n",
    "import os\n",
    "import json"
   ]
  },
  {
   "cell_type": "code",
   "execution_count": null,
   "metadata": {},
   "outputs": [],
   "source": [
    "os.environ[\"AWS_DEFAULT_REGION\"] = \"us-west-2\"\n",
    "dead_queue = get_queue(\"ghrsst-queue-dead\")\n",
    "queue = get_queue(\"ghrsst-queue\")"
   ]
  },
  {
   "cell_type": "code",
   "execution_count": null,
   "metadata": {},
   "outputs": [],
   "source": [
    "import tqdm\n",
    "\n",
    "# For each day of the year, create a timestamp string and publish it to the queue\n",
    "messages = []\n",
    "for year in [2025]:\n",
    "    for day in range(1, 45):\n",
    "        dt = datetime(year, 1, 1) + timedelta(day - 1)\n",
    "        body = {\n",
    "            \"date\": dt.strftime(\"%Y-%m-%d\"),\n",
    "        }\n",
    "        messages.append({\"Id\": body[\"date\"], \"MessageBody\": json.dumps(body)})\n",
    "\n",
    "count = 0\n",
    "message_group = []\n",
    "progress = tqdm.tqdm(messages)\n",
    "\n",
    "for message in progress:\n",
    "    # Assume this works. Exception handling elsewhere.\n",
    "    message_group.append(message)\n",
    "    count += 1\n",
    "\n",
    "    if count % 10 == 0:\n",
    "        publish_messages(queue, message_group)\n",
    "        message_group = []\n",
    "\n",
    "# Post the last few messages\n",
    "if len(message_group) > 0:\n",
    "    publish_messages(queue, message_group)\n",
    "    progress.update(count)\n",
    "\n",
    "# Return the number of messages that were re-driven.\n",
    "print(f\"Published {count} messages\")"
   ]
  },
  {
   "cell_type": "code",
   "execution_count": null,
   "metadata": {},
   "outputs": [],
   "source": [
    "# dead_queue = get_queue(\"ghrsst-queue-dead\")\n",
    "# queue = get_queue(\"ghrsst-queue\")\n",
    "\n",
    "print(\n",
    "    f\"Found {dead_queue.attributes.get('ApproximateNumberOfMessages')} messages in dead queue\"\n",
    ")\n",
    "print(\n",
    "    f\"Found {queue.attributes.get('ApproximateNumberOfMessages')} messages in the alive queue\"\n",
    ")"
   ]
  },
  {
   "cell_type": "code",
   "execution_count": null,
   "metadata": {},
   "outputs": [],
   "source": [
    "import os\n",
    "import boto3\n",
    "from datetime import datetime, timedelta\n",
    "import json\n",
    "\n",
    "N_PREVIOUS_DAYS = 10\n",
    "\n",
    "QUEUE_NAME = \"ghrsst-queue\"\n",
    "os.environ[\"AWS_DEFAULT_REGION\"] = \"us-west-2\"\n",
    "\n",
    "\n",
    "today = datetime.today()\n",
    "\n",
    "messages = []\n",
    "\n",
    "for i in range(N_PREVIOUS_DAYS):\n",
    "    dt = today - timedelta(days=i)\n",
    "\n",
    "    body = {\n",
    "        \"date\": dt.strftime(\"%Y-%m-%d\"),\n",
    "    }\n",
    "    messages.append({\"Id\": body[\"date\"], \"MessageBody\": json.dumps(body)})\n",
    "\n",
    "sqs = boto3.resource(\"sqs\")\n",
    "queue = sqs.get_queue_by_name(QueueName=QUEUE_NAME)\n",
    "\n",
    "queue.send_messages(Entries=messages)"
   ]
  }
 ],
 "metadata": {
  "kernelspec": {
   "display_name": "Python 3",
   "language": "python",
   "name": "python3"
  },
  "language_info": {
   "codemirror_mode": {
    "name": "ipython",
    "version": 3
   },
   "file_extension": ".py",
   "mimetype": "text/x-python",
   "name": "python",
   "nbconvert_exporter": "python",
   "pygments_lexer": "ipython3",
   "version": "3.11.10"
  }
 },
 "nbformat": 4,
 "nbformat_minor": 2
}
