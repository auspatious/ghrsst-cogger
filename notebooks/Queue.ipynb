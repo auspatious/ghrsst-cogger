{
 "cells": [
  {
   "cell_type": "code",
   "execution_count": 1,
   "metadata": {},
   "outputs": [],
   "source": [
    "from odc.aws.queue import publish_messages, get_queue\n",
    "from datetime import datetime, timedelta\n",
    "import os\n",
    "import json"
   ]
  },
  {
   "cell_type": "code",
   "execution_count": 2,
   "metadata": {},
   "outputs": [],
   "source": [
    "os.environ[\"AWS_DEFAULT_REGION\"] = \"us-west-2\"\n",
    "dead_queue = get_queue(\"ghrsst-queue-dead\")\n",
    "queue = get_queue(\"ghrsst-queue\")"
   ]
  },
  {
   "cell_type": "code",
   "execution_count": 29,
   "metadata": {},
   "outputs": [
    {
     "name": "stderr",
     "output_type": "stream",
     "text": [
      "100%|██████████| 50/50 [00:01<00:00, 30.00it/s]"
     ]
    },
    {
     "name": "stdout",
     "output_type": "stream",
     "text": [
      "Published 50 messages\n"
     ]
    },
    {
     "name": "stderr",
     "output_type": "stream",
     "text": [
      "\n"
     ]
    }
   ],
   "source": [
    "import tqdm\n",
    "\n",
    "# For each day of the year, create a timestamp string and publish it to the queue\n",
    "messages = []\n",
    "for year in [2024]:\n",
    "    for day in range(100, 150):\n",
    "        dt = datetime(year, 1, 1) + timedelta(day - 1)\n",
    "        body = {\n",
    "            \"date\": dt.strftime(\"%Y-%m-%d\"),\n",
    "        }\n",
    "        messages.append({\"Id\": body[\"date\"], \"MessageBody\": json.dumps(body)})\n",
    "\n",
    "count = 0\n",
    "message_group = []\n",
    "progress = tqdm.tqdm(messages)\n",
    "\n",
    "for message in progress:\n",
    "    # Assume this works. Exception handling elsewhere.\n",
    "    message_group.append(message)\n",
    "    count += 1\n",
    "\n",
    "    if count % 10 == 0:\n",
    "        publish_messages(queue, message_group)\n",
    "        message_group = []\n",
    "\n",
    "# Post the last few messages\n",
    "if len(message_group) > 0:\n",
    "    publish_messages(queue, message_group)\n",
    "    progress.update(count)\n",
    "\n",
    "# Return the number of messages that were re-driven.\n",
    "print(f\"Published {count} messages\")"
   ]
  },
  {
   "cell_type": "code",
   "execution_count": 28,
   "metadata": {},
   "outputs": [
    {
     "name": "stdout",
     "output_type": "stream",
     "text": [
      "Found 0 messages in dead queue\n",
      "Found 27 messages in the alive queue\n"
     ]
    }
   ],
   "source": [
    "dead_queue = get_queue(\"ghrsst-queue-dead\")\n",
    "queue = get_queue(\"ghrsst-queue\")\n",
    "\n",
    "print(\n",
    "    f\"Found {dead_queue.attributes.get('ApproximateNumberOfMessages')} messages in dead queue\"\n",
    ")\n",
    "print(\n",
    "    f\"Found {queue.attributes.get('ApproximateNumberOfMessages')} messages in the alive queue\"\n",
    ")"
   ]
  },
  {
   "cell_type": "code",
   "execution_count": 12,
   "metadata": {},
   "outputs": [
    {
     "data": {
      "text/plain": [
       "{'Successful': [{'Id': '2024-05-27',\n",
       "   'MessageId': '38073eb0-fb62-46f6-bcdc-c30177220e5e',\n",
       "   'MD5OfMessageBody': '178957661a429f4d91a8c6ff67a23a38'},\n",
       "  {'Id': '2024-05-26',\n",
       "   'MessageId': '6abf9a3e-7604-4854-8b8a-d0d8964e09da',\n",
       "   'MD5OfMessageBody': '7c8d40188f55527850df60ed42d5927c'},\n",
       "  {'Id': '2024-05-25',\n",
       "   'MessageId': 'a4b57f64-a450-4268-a678-78c018c6567f',\n",
       "   'MD5OfMessageBody': '75e6393bc9b1b8b7bf840289c964640d'},\n",
       "  {'Id': '2024-05-24',\n",
       "   'MessageId': 'e3d26e3a-24ab-49fd-a630-7d41c29ba154',\n",
       "   'MD5OfMessageBody': '5451ff6b6e446aa67f1e5b828aaa3abb'},\n",
       "  {'Id': '2024-05-23',\n",
       "   'MessageId': 'a9ef9aea-8100-43ee-8fc9-42e93f014fc6',\n",
       "   'MD5OfMessageBody': '52d928d73bfdb95c5139b2c9a4305019'},\n",
       "  {'Id': '2024-05-22',\n",
       "   'MessageId': '1f6ba19c-aa3f-490f-afe6-de3c977db4c7',\n",
       "   'MD5OfMessageBody': 'bfb3ce6d78d03226d921a53c1a441e34'},\n",
       "  {'Id': '2024-05-21',\n",
       "   'MessageId': '798d8b32-90cd-4110-b124-9c92614dbad5',\n",
       "   'MD5OfMessageBody': '488e24e2f516e472f5e1161aac26fe7a'},\n",
       "  {'Id': '2024-05-20',\n",
       "   'MessageId': '07b5596e-15d9-412e-b26e-311d200337b6',\n",
       "   'MD5OfMessageBody': '8729fbc9c46b06ef40e345541b32b550'},\n",
       "  {'Id': '2024-05-19',\n",
       "   'MessageId': 'a9619e0d-147a-4b5d-82fb-455713bf5fb9',\n",
       "   'MD5OfMessageBody': '1b2a90d8bb8664f03eda323a6483993a'},\n",
       "  {'Id': '2024-05-18',\n",
       "   'MessageId': '19fcbfdc-06d8-4bd0-be86-2f13ffde9e57',\n",
       "   'MD5OfMessageBody': '720486b191b3b92c67d151d327980019'}],\n",
       " 'ResponseMetadata': {'RequestId': 'fef798ca-0f52-561c-a4e2-c607d1c3c910',\n",
       "  'HTTPStatusCode': 200,\n",
       "  'HTTPHeaders': {'x-amzn-requestid': 'fef798ca-0f52-561c-a4e2-c607d1c3c910',\n",
       "   'date': 'Mon, 27 May 2024 01:05:21 GMT',\n",
       "   'content-type': 'text/xml',\n",
       "   'content-length': '2330',\n",
       "   'connection': 'keep-alive'},\n",
       "  'RetryAttempts': 0}}"
      ]
     },
     "execution_count": 12,
     "metadata": {},
     "output_type": "execute_result"
    }
   ],
   "source": [
    "import os\n",
    "import boto3\n",
    "from datetime import datetime, timedelta\n",
    "import json\n",
    "\n",
    "N_PREVIOUS_DAYS = 10\n",
    "\n",
    "QUEUE_NAME = \"ghrsst-queue\"\n",
    "os.environ[\"AWS_DEFAULT_REGION\"] = \"us-west-2\"\n",
    "\n",
    "\n",
    "today = datetime.today()\n",
    "\n",
    "messages = []\n",
    "\n",
    "for i in range(N_PREVIOUS_DAYS):\n",
    "    dt = today - timedelta(days=i)\n",
    "\n",
    "    body = {\n",
    "        \"date\": dt.strftime(\"%Y-%m-%d\"),\n",
    "    }\n",
    "    messages.append({\"Id\": body[\"date\"], \"MessageBody\": json.dumps(body)})\n",
    "\n",
    "sqs = boto3.resource(\"sqs\")\n",
    "queue = sqs.get_queue_by_name(QueueName=QUEUE_NAME)\n",
    "\n",
    "queue.send_messages(Entries=messages)"
   ]
  }
 ],
 "metadata": {
  "kernelspec": {
   "display_name": "Python 3",
   "language": "python",
   "name": "python3"
  },
  "language_info": {
   "codemirror_mode": {
    "name": "ipython",
    "version": 3
   },
   "file_extension": ".py",
   "mimetype": "text/x-python",
   "name": "python",
   "nbconvert_exporter": "python",
   "pygments_lexer": "ipython3",
   "version": "3.11.9"
  }
 },
 "nbformat": 4,
 "nbformat_minor": 2
}
