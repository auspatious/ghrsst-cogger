{
 "cells": [
  {
   "cell_type": "code",
   "execution_count": null,
   "metadata": {},
   "outputs": [],
   "source": [
    "import xarray as xr\n",
    "from pystac import Item\n",
    "from odc.stac import load\n",
    "\n",
    "from pathlib import Path\n",
    "\n",
    "from datetime import datetime\n",
    "\n",
    "import sys\n",
    "import os\n",
    "sys.path.insert(0, \"..\")\n",
    "\n",
    "from ghrsst.cogger import load_data"
   ]
  },
  {
   "cell_type": "code",
   "execution_count": null,
   "metadata": {},
   "outputs": [],
   "source": [
    "LOCAL_FOLDER = \"data\"\n",
    "LOCAL_FILE_DATE = datetime(2023, 11, 6)\n",
    "LOCAL_FILE = str(Path(os.path.abspath(\"\")).parent / LOCAL_FOLDER)\n",
    "\n",
    "data = load_data(LOCAL_FILE_DATE, LOCAL_FILE)\n",
    "\n",
    "data"
   ]
  },
  {
   "cell_type": "code",
   "execution_count": null,
   "metadata": {},
   "outputs": [],
   "source": [
    "from odc.geo.geobox import GeoBox\n",
    "from odc.geo.xr import xr_reproject\n",
    "from affine import Affine\n",
    "\n",
    "\n",
    "new_affine = Affine(0.01, 0.0, -180.0, 0.0, 0.01, -89.995, 0.0, 0.0, 1.0)\n",
    "new_geobox = GeoBox(data.odc.geobox.shape, new_affine, data.odc.geobox.crs)\n",
    "\n",
    "reprojected = xr_reproject(data, new_geobox, resampling=\"nearest\")\n",
    "\n",
    "float(reprojected[\"longitude\"][0].values), float(reprojected[\"longitude\"][-1].values)"
   ]
  },
  {
   "cell_type": "code",
   "execution_count": null,
   "metadata": {},
   "outputs": [],
   "source": [
    "diff = (data.analysed_sst.values - reprojected.analysed_sst.values)"
   ]
  },
  {
   "cell_type": "code",
   "execution_count": null,
   "metadata": {},
   "outputs": [],
   "source": [
    "from xarray import DataArray\n",
    "\n",
    "data[\"diff\"] = DataArray(diff, dims=[\"time\", \"lat\", \"lon\"])\n",
    "\n",
    "data[\"diff\"].squeeze().plot.imshow()"
   ]
  },
  {
   "cell_type": "code",
   "execution_count": null,
   "metadata": {},
   "outputs": [],
   "source": []
  },
  {
   "cell_type": "code",
   "execution_count": null,
   "metadata": {},
   "outputs": [],
   "source": [
    "data.odc.geobox.affine = new_affine"
   ]
  },
  {
   "cell_type": "code",
   "execution_count": null,
   "metadata": {},
   "outputs": [],
   "source": [
    "float(reprojected[\"longitude\"][0].values), float(reprojected[\"longitude\"][-1].values)"
   ]
  },
  {
   "cell_type": "code",
   "execution_count": null,
   "metadata": {},
   "outputs": [],
   "source": [
    "item = Item.from_file(\"data/output/20231106090000-JPL-L4_GHRSST-SSTfnd-MUR-GLOB-v02.0-fv04.1.stac-item.json\")\n",
    "item"
   ]
  },
  {
   "cell_type": "code",
   "execution_count": null,
   "metadata": {},
   "outputs": [],
   "source": [
    "data = load([item], chunks={})\n",
    "data"
   ]
  },
  {
   "cell_type": "code",
   "execution_count": null,
   "metadata": {},
   "outputs": [],
   "source": [
    "data.analysed_sst.isel(time=0).plot.imshow(size=10, cmap='jet')"
   ]
  }
 ],
 "metadata": {
  "kernelspec": {
   "display_name": "Python 3",
   "language": "python",
   "name": "python3"
  },
  "language_info": {
   "codemirror_mode": {
    "name": "ipython",
    "version": 3
   },
   "file_extension": ".py",
   "mimetype": "text/x-python",
   "name": "python",
   "nbconvert_exporter": "python",
   "pygments_lexer": "ipython3",
   "version": "3.11.5"
  }
 },
 "nbformat": 4,
 "nbformat_minor": 2
}
