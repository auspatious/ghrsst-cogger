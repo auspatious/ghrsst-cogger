{
 "cells": [
  {
   "cell_type": "code",
   "execution_count": 11,
   "metadata": {},
   "outputs": [],
   "source": [
    "from odc.aws.queue import publish_messages, get_queue\n",
    "from datetime import datetime, timedelta\n",
    "import os\n",
    "import json"
   ]
  },
  {
   "cell_type": "code",
   "execution_count": null,
   "metadata": {},
   "outputs": [],
   "source": [
    "os.environ['AWS_DEFAULT_REGION'] = 'us-west-2'\n",
    "dead_queue = get_queue('ghrsst-queue-dead')\n",
    "queue = get_queue('ghrsst-queue')"
   ]
  },
  {
   "cell_type": "code",
   "execution_count": 32,
   "metadata": {},
   "outputs": [
    {
     "name": "stdout",
     "output_type": "stream",
     "text": [
      "Published None messages to https://sqs.us-west-2.amazonaws.com/334668851926/ghrsst-queue\n"
     ]
    }
   ],
   "source": [
    "# For each day of the year, create a timestamp string and publish it to the queue\n",
    "messages = []\n",
    "for year in [2023]:\n",
    "    for day in range(1, 367):\n",
    "        dt = datetime(year, 1, 1) + timedelta(day - 1)\n",
    "        body = {\n",
    "            \"date\": dt.strftime('%Y-%m-%d'),\n",
    "        }\n",
    "        messages.append({\"Id\": body[\"date\"], \"MessageBody\": json.dumps(body)})\n",
    "\n",
    "\n",
    "publish_messages(queue, messages[0:5])"
   ]
  },
  {
   "cell_type": "code",
   "execution_count": 27,
   "metadata": {},
   "outputs": [
    {
     "name": "stdout",
     "output_type": "stream",
     "text": [
      "Found 0 messages in dead queue\n",
      "Found 0 messages in the alive queue\n"
     ]
    }
   ],
   "source": [
    "print(f\"Found {dead_queue.attributes.get('ApproximateNumberOfMessages')} messages in dead queue\")\n",
    "print(f\"Found {queue.attributes.get('ApproximateNumberOfMessages')} messages in the alive queue\")"
   ]
  }
 ],
 "metadata": {
  "kernelspec": {
   "display_name": "Python 3",
   "language": "python",
   "name": "python3"
  },
  "language_info": {
   "codemirror_mode": {
    "name": "ipython",
    "version": 3
   },
   "file_extension": ".py",
   "mimetype": "text/x-python",
   "name": "python",
   "nbconvert_exporter": "python",
   "pygments_lexer": "ipython3",
   "version": "3.11.5"
  }
 },
 "nbformat": 4,
 "nbformat_minor": 2
}
